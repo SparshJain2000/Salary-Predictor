{
 "cells": [
  {
   "cell_type": "code",
   "execution_count": 3,
   "source": [
    "import pandas as pd\r\n",
    "import matplotlib.pyplot as plt\r\n",
    "import pickle\r\n",
    "import numpy as np"
   ],
   "outputs": [],
   "metadata": {}
  },
  {
   "cell_type": "markdown",
   "source": [
    "### READING CSV"
   ],
   "metadata": {}
  },
  {
   "cell_type": "code",
   "execution_count": 4,
   "source": [
    "df=pd.read_csv(\"./dataset/survey_results_public.csv\")\r\n",
    "df1=pd.read_csv(\"./dataset/survey_results_public_2020.csv\")\r\n",
    "print(len(df.index))\r\n",
    "print(len(df1.index))"
   ],
   "outputs": [
    {
     "output_type": "stream",
     "name": "stdout",
     "text": [
      "88883\n",
      "64461\n"
     ]
    }
   ],
   "metadata": {}
  },
  {
   "cell_type": "code",
   "execution_count": 5,
   "source": [
    "df=df[[\"Country\",\"EdLevel\",\"YearsCodePro\",\"Employment\",\"ConvertedComp\",\"UndergradMajor\"]]\r\n",
    "df=df.rename({\"ConvertedComp\":\"Salary\"},axis=1)\r\n",
    "df.head()\r\n"
   ],
   "outputs": [
    {
     "output_type": "execute_result",
     "data": {
      "text/html": [
       "<div>\n",
       "<style scoped>\n",
       "    .dataframe tbody tr th:only-of-type {\n",
       "        vertical-align: middle;\n",
       "    }\n",
       "\n",
       "    .dataframe tbody tr th {\n",
       "        vertical-align: top;\n",
       "    }\n",
       "\n",
       "    .dataframe thead th {\n",
       "        text-align: right;\n",
       "    }\n",
       "</style>\n",
       "<table border=\"1\" class=\"dataframe\">\n",
       "  <thead>\n",
       "    <tr style=\"text-align: right;\">\n",
       "      <th></th>\n",
       "      <th>Country</th>\n",
       "      <th>EdLevel</th>\n",
       "      <th>YearsCodePro</th>\n",
       "      <th>Employment</th>\n",
       "      <th>Salary</th>\n",
       "      <th>UndergradMajor</th>\n",
       "    </tr>\n",
       "  </thead>\n",
       "  <tbody>\n",
       "    <tr>\n",
       "      <th>0</th>\n",
       "      <td>United Kingdom</td>\n",
       "      <td>Primary/elementary school</td>\n",
       "      <td>NaN</td>\n",
       "      <td>Not employed, and not looking for work</td>\n",
       "      <td>NaN</td>\n",
       "      <td>NaN</td>\n",
       "    </tr>\n",
       "    <tr>\n",
       "      <th>1</th>\n",
       "      <td>Bosnia and Herzegovina</td>\n",
       "      <td>Secondary school (e.g. American high school, G...</td>\n",
       "      <td>NaN</td>\n",
       "      <td>Not employed, but looking for work</td>\n",
       "      <td>NaN</td>\n",
       "      <td>NaN</td>\n",
       "    </tr>\n",
       "    <tr>\n",
       "      <th>2</th>\n",
       "      <td>Thailand</td>\n",
       "      <td>Bachelor’s degree (BA, BS, B.Eng., etc.)</td>\n",
       "      <td>1</td>\n",
       "      <td>Employed full-time</td>\n",
       "      <td>8820.0</td>\n",
       "      <td>Web development or web design</td>\n",
       "    </tr>\n",
       "    <tr>\n",
       "      <th>3</th>\n",
       "      <td>United States</td>\n",
       "      <td>Bachelor’s degree (BA, BS, B.Eng., etc.)</td>\n",
       "      <td>Less than 1 year</td>\n",
       "      <td>Employed full-time</td>\n",
       "      <td>61000.0</td>\n",
       "      <td>Computer science, computer engineering, or sof...</td>\n",
       "    </tr>\n",
       "    <tr>\n",
       "      <th>4</th>\n",
       "      <td>Ukraine</td>\n",
       "      <td>Bachelor’s degree (BA, BS, B.Eng., etc.)</td>\n",
       "      <td>9</td>\n",
       "      <td>Employed full-time</td>\n",
       "      <td>NaN</td>\n",
       "      <td>Computer science, computer engineering, or sof...</td>\n",
       "    </tr>\n",
       "  </tbody>\n",
       "</table>\n",
       "</div>"
      ],
      "text/plain": [
       "                  Country                                            EdLevel  \\\n",
       "0          United Kingdom                          Primary/elementary school   \n",
       "1  Bosnia and Herzegovina  Secondary school (e.g. American high school, G...   \n",
       "2                Thailand           Bachelor’s degree (BA, BS, B.Eng., etc.)   \n",
       "3           United States           Bachelor’s degree (BA, BS, B.Eng., etc.)   \n",
       "4                 Ukraine           Bachelor’s degree (BA, BS, B.Eng., etc.)   \n",
       "\n",
       "       YearsCodePro                              Employment   Salary  \\\n",
       "0               NaN  Not employed, and not looking for work      NaN   \n",
       "1               NaN      Not employed, but looking for work      NaN   \n",
       "2                 1                      Employed full-time   8820.0   \n",
       "3  Less than 1 year                      Employed full-time  61000.0   \n",
       "4                 9                      Employed full-time      NaN   \n",
       "\n",
       "                                      UndergradMajor  \n",
       "0                                                NaN  \n",
       "1                                                NaN  \n",
       "2                      Web development or web design  \n",
       "3  Computer science, computer engineering, or sof...  \n",
       "4  Computer science, computer engineering, or sof...  "
      ]
     },
     "metadata": {},
     "execution_count": 5
    }
   ],
   "metadata": {}
  },
  {
   "cell_type": "code",
   "execution_count": 6,
   "source": [
    "df1=df1[[\"Country\",\"EdLevel\",\"YearsCodePro\",\"Employment\",\"ConvertedComp\",\"UndergradMajor\"]]\r\n",
    "df1=df1.rename({\"ConvertedComp\":\"Salary\"},axis=1)\r\n",
    "df1.head()"
   ],
   "outputs": [
    {
     "output_type": "execute_result",
     "data": {
      "text/html": [
       "<div>\n",
       "<style scoped>\n",
       "    .dataframe tbody tr th:only-of-type {\n",
       "        vertical-align: middle;\n",
       "    }\n",
       "\n",
       "    .dataframe tbody tr th {\n",
       "        vertical-align: top;\n",
       "    }\n",
       "\n",
       "    .dataframe thead th {\n",
       "        text-align: right;\n",
       "    }\n",
       "</style>\n",
       "<table border=\"1\" class=\"dataframe\">\n",
       "  <thead>\n",
       "    <tr style=\"text-align: right;\">\n",
       "      <th></th>\n",
       "      <th>Country</th>\n",
       "      <th>EdLevel</th>\n",
       "      <th>YearsCodePro</th>\n",
       "      <th>Employment</th>\n",
       "      <th>Salary</th>\n",
       "      <th>UndergradMajor</th>\n",
       "    </tr>\n",
       "  </thead>\n",
       "  <tbody>\n",
       "    <tr>\n",
       "      <th>0</th>\n",
       "      <td>Germany</td>\n",
       "      <td>Master’s degree (M.A., M.S., M.Eng., MBA, etc.)</td>\n",
       "      <td>27</td>\n",
       "      <td>Independent contractor, freelancer, or self-em...</td>\n",
       "      <td>NaN</td>\n",
       "      <td>Computer science, computer engineering, or sof...</td>\n",
       "    </tr>\n",
       "    <tr>\n",
       "      <th>1</th>\n",
       "      <td>United Kingdom</td>\n",
       "      <td>Bachelor’s degree (B.A., B.S., B.Eng., etc.)</td>\n",
       "      <td>4</td>\n",
       "      <td>Employed full-time</td>\n",
       "      <td>NaN</td>\n",
       "      <td>Computer science, computer engineering, or sof...</td>\n",
       "    </tr>\n",
       "    <tr>\n",
       "      <th>2</th>\n",
       "      <td>Russian Federation</td>\n",
       "      <td>NaN</td>\n",
       "      <td>NaN</td>\n",
       "      <td>NaN</td>\n",
       "      <td>NaN</td>\n",
       "      <td>NaN</td>\n",
       "    </tr>\n",
       "    <tr>\n",
       "      <th>3</th>\n",
       "      <td>Albania</td>\n",
       "      <td>Master’s degree (M.A., M.S., M.Eng., MBA, etc.)</td>\n",
       "      <td>4</td>\n",
       "      <td>NaN</td>\n",
       "      <td>NaN</td>\n",
       "      <td>Computer science, computer engineering, or sof...</td>\n",
       "    </tr>\n",
       "    <tr>\n",
       "      <th>4</th>\n",
       "      <td>United States</td>\n",
       "      <td>Bachelor’s degree (B.A., B.S., B.Eng., etc.)</td>\n",
       "      <td>8</td>\n",
       "      <td>Employed full-time</td>\n",
       "      <td>NaN</td>\n",
       "      <td>Computer science, computer engineering, or sof...</td>\n",
       "    </tr>\n",
       "  </tbody>\n",
       "</table>\n",
       "</div>"
      ],
      "text/plain": [
       "              Country                                          EdLevel  \\\n",
       "0             Germany  Master’s degree (M.A., M.S., M.Eng., MBA, etc.)   \n",
       "1      United Kingdom     Bachelor’s degree (B.A., B.S., B.Eng., etc.)   \n",
       "2  Russian Federation                                              NaN   \n",
       "3             Albania  Master’s degree (M.A., M.S., M.Eng., MBA, etc.)   \n",
       "4       United States     Bachelor’s degree (B.A., B.S., B.Eng., etc.)   \n",
       "\n",
       "  YearsCodePro                                         Employment  Salary  \\\n",
       "0           27  Independent contractor, freelancer, or self-em...     NaN   \n",
       "1            4                                 Employed full-time     NaN   \n",
       "2          NaN                                                NaN     NaN   \n",
       "3            4                                                NaN     NaN   \n",
       "4            8                                 Employed full-time     NaN   \n",
       "\n",
       "                                      UndergradMajor  \n",
       "0  Computer science, computer engineering, or sof...  \n",
       "1  Computer science, computer engineering, or sof...  \n",
       "2                                                NaN  \n",
       "3  Computer science, computer engineering, or sof...  \n",
       "4  Computer science, computer engineering, or sof...  "
      ]
     },
     "metadata": {},
     "execution_count": 6
    }
   ],
   "metadata": {}
  },
  {
   "cell_type": "code",
   "execution_count": 7,
   "source": [
    "# Removing NULL salary\r\n",
    "df=df[df[\"Salary\"].notnull()]\r\n",
    "df1=df1[df1[\"Salary\"].notnull()]\r\n",
    "\r\n",
    "print(df.shape[0])\r\n",
    "print(df1.shape[0])"
   ],
   "outputs": [
    {
     "output_type": "stream",
     "name": "stdout",
     "text": [
      "55823\n",
      "34756\n"
     ]
    }
   ],
   "metadata": {}
  },
  {
   "cell_type": "code",
   "execution_count": 8,
   "source": [
    "df1.info()"
   ],
   "outputs": [
    {
     "output_type": "stream",
     "name": "stdout",
     "text": [
      "<class 'pandas.core.frame.DataFrame'>\n",
      "Int64Index: 34756 entries, 7 to 64154\n",
      "Data columns (total 6 columns):\n",
      " #   Column          Non-Null Count  Dtype  \n",
      "---  ------          --------------  -----  \n",
      " 0   Country         34756 non-null  object \n",
      " 1   EdLevel         34188 non-null  object \n",
      " 2   YearsCodePro    34621 non-null  object \n",
      " 3   Employment      34717 non-null  object \n",
      " 4   Salary          34756 non-null  float64\n",
      " 5   UndergradMajor  32228 non-null  object \n",
      "dtypes: float64(1), object(5)\n",
      "memory usage: 1.9+ MB\n"
     ]
    }
   ],
   "metadata": {}
  },
  {
   "cell_type": "code",
   "execution_count": 9,
   "source": [
    "# Drop NAN rows\r\n",
    "df=df.dropna()\r\n",
    "df1=df1.dropna()\r\n",
    "print(df.shape[0])\r\n",
    "print(df1.shape[0])"
   ],
   "outputs": [
    {
     "output_type": "stream",
     "name": "stdout",
     "text": [
      "50264\n",
      "31559\n"
     ]
    }
   ],
   "metadata": {}
  },
  {
   "cell_type": "code",
   "execution_count": 10,
   "source": [
    "df.isnull().sum()"
   ],
   "outputs": [
    {
     "output_type": "execute_result",
     "data": {
      "text/plain": [
       "Country           0\n",
       "EdLevel           0\n",
       "YearsCodePro      0\n",
       "Employment        0\n",
       "Salary            0\n",
       "UndergradMajor    0\n",
       "dtype: int64"
      ]
     },
     "metadata": {},
     "execution_count": 10
    }
   ],
   "metadata": {}
  },
  {
   "cell_type": "markdown",
   "source": [
    "### MERGING 2 DF"
   ],
   "metadata": {}
  },
  {
   "cell_type": "code",
   "execution_count": 11,
   "source": [
    "df=pd.concat([df,df1])"
   ],
   "outputs": [],
   "metadata": {}
  },
  {
   "cell_type": "code",
   "execution_count": 12,
   "source": [
    "df.head()"
   ],
   "outputs": [
    {
     "output_type": "execute_result",
     "data": {
      "text/html": [
       "<div>\n",
       "<style scoped>\n",
       "    .dataframe tbody tr th:only-of-type {\n",
       "        vertical-align: middle;\n",
       "    }\n",
       "\n",
       "    .dataframe tbody tr th {\n",
       "        vertical-align: top;\n",
       "    }\n",
       "\n",
       "    .dataframe thead th {\n",
       "        text-align: right;\n",
       "    }\n",
       "</style>\n",
       "<table border=\"1\" class=\"dataframe\">\n",
       "  <thead>\n",
       "    <tr style=\"text-align: right;\">\n",
       "      <th></th>\n",
       "      <th>Country</th>\n",
       "      <th>EdLevel</th>\n",
       "      <th>YearsCodePro</th>\n",
       "      <th>Employment</th>\n",
       "      <th>Salary</th>\n",
       "      <th>UndergradMajor</th>\n",
       "    </tr>\n",
       "  </thead>\n",
       "  <tbody>\n",
       "    <tr>\n",
       "      <th>2</th>\n",
       "      <td>Thailand</td>\n",
       "      <td>Bachelor’s degree (BA, BS, B.Eng., etc.)</td>\n",
       "      <td>1</td>\n",
       "      <td>Employed full-time</td>\n",
       "      <td>8820.0</td>\n",
       "      <td>Web development or web design</td>\n",
       "    </tr>\n",
       "    <tr>\n",
       "      <th>3</th>\n",
       "      <td>United States</td>\n",
       "      <td>Bachelor’s degree (BA, BS, B.Eng., etc.)</td>\n",
       "      <td>Less than 1 year</td>\n",
       "      <td>Employed full-time</td>\n",
       "      <td>61000.0</td>\n",
       "      <td>Computer science, computer engineering, or sof...</td>\n",
       "    </tr>\n",
       "    <tr>\n",
       "      <th>5</th>\n",
       "      <td>Canada</td>\n",
       "      <td>Bachelor’s degree (BA, BS, B.Eng., etc.)</td>\n",
       "      <td>3</td>\n",
       "      <td>Employed full-time</td>\n",
       "      <td>366420.0</td>\n",
       "      <td>Mathematics or statistics</td>\n",
       "    </tr>\n",
       "    <tr>\n",
       "      <th>8</th>\n",
       "      <td>New Zealand</td>\n",
       "      <td>Some college/university study without earning ...</td>\n",
       "      <td>4</td>\n",
       "      <td>Employed full-time</td>\n",
       "      <td>95179.0</td>\n",
       "      <td>Computer science, computer engineering, or sof...</td>\n",
       "    </tr>\n",
       "    <tr>\n",
       "      <th>12</th>\n",
       "      <td>United States</td>\n",
       "      <td>Master’s degree (MA, MS, M.Eng., MBA, etc.)</td>\n",
       "      <td>8</td>\n",
       "      <td>Employed full-time</td>\n",
       "      <td>90000.0</td>\n",
       "      <td>Computer science, computer engineering, or sof...</td>\n",
       "    </tr>\n",
       "  </tbody>\n",
       "</table>\n",
       "</div>"
      ],
      "text/plain": [
       "          Country                                            EdLevel  \\\n",
       "2        Thailand           Bachelor’s degree (BA, BS, B.Eng., etc.)   \n",
       "3   United States           Bachelor’s degree (BA, BS, B.Eng., etc.)   \n",
       "5          Canada           Bachelor’s degree (BA, BS, B.Eng., etc.)   \n",
       "8     New Zealand  Some college/university study without earning ...   \n",
       "12  United States        Master’s degree (MA, MS, M.Eng., MBA, etc.)   \n",
       "\n",
       "        YearsCodePro          Employment    Salary  \\\n",
       "2                  1  Employed full-time    8820.0   \n",
       "3   Less than 1 year  Employed full-time   61000.0   \n",
       "5                  3  Employed full-time  366420.0   \n",
       "8                  4  Employed full-time   95179.0   \n",
       "12                 8  Employed full-time   90000.0   \n",
       "\n",
       "                                       UndergradMajor  \n",
       "2                       Web development or web design  \n",
       "3   Computer science, computer engineering, or sof...  \n",
       "5                           Mathematics or statistics  \n",
       "8   Computer science, computer engineering, or sof...  \n",
       "12  Computer science, computer engineering, or sof...  "
      ]
     },
     "metadata": {},
     "execution_count": 12
    }
   ],
   "metadata": {}
  },
  {
   "cell_type": "code",
   "execution_count": 13,
   "source": [
    "df.shape[0]"
   ],
   "outputs": [
    {
     "output_type": "execute_result",
     "data": {
      "text/plain": [
       "81823"
      ]
     },
     "metadata": {},
     "execution_count": 13
    }
   ],
   "metadata": {}
  },
  {
   "cell_type": "code",
   "execution_count": 14,
   "source": [
    "def save():\r\n",
    "    df.to_csv(r'dataset\\final_dataset.csv',index=False)\r\n",
    "def save_encoded():\r\n",
    "    df.to_csv(r'dataset\\final_dataset_encoded.csv',index=False)"
   ],
   "outputs": [],
   "metadata": {}
  },
  {
   "cell_type": "code",
   "execution_count": 15,
   "source": [
    "def read(df):\r\n",
    "    df=pd.read_csv(\"./dataset/final_dataset.csv\")\r\n",
    "def read_encoded(df):\r\n",
    "    df=pd.read_csv(\"./dataset/final_dataset_encoded.csv\")"
   ],
   "outputs": [],
   "metadata": {}
  },
  {
   "cell_type": "code",
   "execution_count": 16,
   "source": [
    "df.head()"
   ],
   "outputs": [
    {
     "output_type": "execute_result",
     "data": {
      "text/html": [
       "<div>\n",
       "<style scoped>\n",
       "    .dataframe tbody tr th:only-of-type {\n",
       "        vertical-align: middle;\n",
       "    }\n",
       "\n",
       "    .dataframe tbody tr th {\n",
       "        vertical-align: top;\n",
       "    }\n",
       "\n",
       "    .dataframe thead th {\n",
       "        text-align: right;\n",
       "    }\n",
       "</style>\n",
       "<table border=\"1\" class=\"dataframe\">\n",
       "  <thead>\n",
       "    <tr style=\"text-align: right;\">\n",
       "      <th></th>\n",
       "      <th>Country</th>\n",
       "      <th>EdLevel</th>\n",
       "      <th>YearsCodePro</th>\n",
       "      <th>Employment</th>\n",
       "      <th>Salary</th>\n",
       "      <th>UndergradMajor</th>\n",
       "    </tr>\n",
       "  </thead>\n",
       "  <tbody>\n",
       "    <tr>\n",
       "      <th>2</th>\n",
       "      <td>Thailand</td>\n",
       "      <td>Bachelor’s degree (BA, BS, B.Eng., etc.)</td>\n",
       "      <td>1</td>\n",
       "      <td>Employed full-time</td>\n",
       "      <td>8820.0</td>\n",
       "      <td>Web development or web design</td>\n",
       "    </tr>\n",
       "    <tr>\n",
       "      <th>3</th>\n",
       "      <td>United States</td>\n",
       "      <td>Bachelor’s degree (BA, BS, B.Eng., etc.)</td>\n",
       "      <td>Less than 1 year</td>\n",
       "      <td>Employed full-time</td>\n",
       "      <td>61000.0</td>\n",
       "      <td>Computer science, computer engineering, or sof...</td>\n",
       "    </tr>\n",
       "    <tr>\n",
       "      <th>5</th>\n",
       "      <td>Canada</td>\n",
       "      <td>Bachelor’s degree (BA, BS, B.Eng., etc.)</td>\n",
       "      <td>3</td>\n",
       "      <td>Employed full-time</td>\n",
       "      <td>366420.0</td>\n",
       "      <td>Mathematics or statistics</td>\n",
       "    </tr>\n",
       "    <tr>\n",
       "      <th>8</th>\n",
       "      <td>New Zealand</td>\n",
       "      <td>Some college/university study without earning ...</td>\n",
       "      <td>4</td>\n",
       "      <td>Employed full-time</td>\n",
       "      <td>95179.0</td>\n",
       "      <td>Computer science, computer engineering, or sof...</td>\n",
       "    </tr>\n",
       "    <tr>\n",
       "      <th>12</th>\n",
       "      <td>United States</td>\n",
       "      <td>Master’s degree (MA, MS, M.Eng., MBA, etc.)</td>\n",
       "      <td>8</td>\n",
       "      <td>Employed full-time</td>\n",
       "      <td>90000.0</td>\n",
       "      <td>Computer science, computer engineering, or sof...</td>\n",
       "    </tr>\n",
       "  </tbody>\n",
       "</table>\n",
       "</div>"
      ],
      "text/plain": [
       "          Country                                            EdLevel  \\\n",
       "2        Thailand           Bachelor’s degree (BA, BS, B.Eng., etc.)   \n",
       "3   United States           Bachelor’s degree (BA, BS, B.Eng., etc.)   \n",
       "5          Canada           Bachelor’s degree (BA, BS, B.Eng., etc.)   \n",
       "8     New Zealand  Some college/university study without earning ...   \n",
       "12  United States        Master’s degree (MA, MS, M.Eng., MBA, etc.)   \n",
       "\n",
       "        YearsCodePro          Employment    Salary  \\\n",
       "2                  1  Employed full-time    8820.0   \n",
       "3   Less than 1 year  Employed full-time   61000.0   \n",
       "5                  3  Employed full-time  366420.0   \n",
       "8                  4  Employed full-time   95179.0   \n",
       "12                 8  Employed full-time   90000.0   \n",
       "\n",
       "                                       UndergradMajor  \n",
       "2                       Web development or web design  \n",
       "3   Computer science, computer engineering, or sof...  \n",
       "5                           Mathematics or statistics  \n",
       "8   Computer science, computer engineering, or sof...  \n",
       "12  Computer science, computer engineering, or sof...  "
      ]
     },
     "metadata": {},
     "execution_count": 16
    }
   ],
   "metadata": {}
  },
  {
   "cell_type": "markdown",
   "source": [
    "### Cleaning UG major column"
   ],
   "metadata": {}
  },
  {
   "cell_type": "code",
   "execution_count": 21,
   "source": [
    "df[\"UndergradMajor\"].value_counts()"
   ],
   "outputs": [
    {
     "output_type": "execute_result",
     "data": {
      "text/plain": [
       "Computer science, computer engineering, or software engineering                   51492\n",
       "Another engineering discipline                                                     7033\n",
       "Information systems, information technology, or system administration              5850\n",
       "A natural science                                                                  3737\n",
       "Web development or web design                                                      2797\n",
       "A humanities discipline                                                            1833\n",
       "A social science                                                                   1564\n",
       "A business discipline (ex. accounting, finance, marketing)                         1137\n",
       "I never declared a major                                                            728\n",
       "Fine arts or performing arts (such as graphic design, music, studio art, etc.)      502\n",
       "A health science                                                                    271\n",
       "Name: UndergradMajor, dtype: int64"
      ]
     },
     "metadata": {},
     "execution_count": 21
    }
   ],
   "metadata": {}
  },
  {
   "cell_type": "code",
   "execution_count": 18,
   "source": [
    "df=df[df[\"UndergradMajor\"]!=\"Mathematics or statistics\"]\r\n",
    "df=df[df[\"UndergradMajor\"]!=\"Fine arts or performing arts (ex. graphic design, music, studio art)\" ]\r\n",
    "df=df[df[\"UndergradMajor\"]!=\"A humanities discipline (such as literature, history, philosophy, etc.) \" ]\r\n",
    "df=df[df[\"UndergradMajor\"]!=\"A business discipline (such as accounting, finance, marketing, etc.)\" ]"
   ],
   "outputs": [],
   "metadata": {}
  },
  {
   "cell_type": "code",
   "execution_count": 20,
   "source": [
    "def ug(x):\r\n",
    "     if \"A natural science\" in x:\r\n",
    "          return \"A natural science\"\r\n",
    "     if \"A humanities discipline\" in x:\r\n",
    "          return \"A humanities discipline\"\r\n",
    "     if \"A health science\" in x:\r\n",
    "          return \"A health science\"\r\n",
    "     if \"Another engineering discipline\" in x:\r\n",
    "          return \"Another engineering discipline\" \r\n",
    "     if \"A social science\" in x:\r\n",
    "          return \"A social science\"\r\n",
    "\r\n",
    "     return x\r\n",
    "df['UndergradMajor']=df['UndergradMajor'].apply(ug)"
   ],
   "outputs": [],
   "metadata": {}
  },
  {
   "cell_type": "markdown",
   "source": [
    "### Cleaning Country column"
   ],
   "metadata": {}
  },
  {
   "cell_type": "code",
   "execution_count": 22,
   "source": [
    "df[\"Country\"].value_counts()"
   ],
   "outputs": [
    {
     "output_type": "execute_result",
     "data": {
      "text/plain": [
       "United States                       19891\n",
       "India                                6185\n",
       "United Kingdom                       5437\n",
       "Germany                              4679\n",
       "Canada                               3098\n",
       "                                    ...  \n",
       "Belize                                  1\n",
       "Saint Vincent and the Grenadines        1\n",
       "Seychelles                              1\n",
       "Angola                                  1\n",
       "Andorra                                 1\n",
       "Name: Country, Length: 169, dtype: int64"
      ]
     },
     "metadata": {},
     "execution_count": 22
    }
   ],
   "metadata": {}
  },
  {
   "cell_type": "code",
   "execution_count": 23,
   "source": [
    "def shorten(cat,cutoff):\r\n",
    "    mp={}\r\n",
    "    for i in range(len(cat)):\r\n",
    "        if(cat.values[i]>=cutoff):\r\n",
    "            mp[cat.index[i]]=cat.index[i]\r\n",
    "        else:\r\n",
    "            mp[cat.index[i]]='Other'\r\n",
    "    return mp\r\n"
   ],
   "outputs": [],
   "metadata": {}
  },
  {
   "cell_type": "code",
   "execution_count": 24,
   "source": [
    "cnt_mp=shorten(df.Country.value_counts(),400)\r\n",
    "df[\"Country\"]=df[\"Country\"].map(cnt_mp)\r\n",
    "df.Country.value_counts()"
   ],
   "outputs": [
    {
     "output_type": "execute_result",
     "data": {
      "text/plain": [
       "United States         19891\n",
       "Other                  9034\n",
       "India                  6185\n",
       "United Kingdom         5437\n",
       "Germany                4679\n",
       "Canada                 3098\n",
       "France                 2478\n",
       "Brazil                 2251\n",
       "Poland                 1798\n",
       "Spain                  1751\n",
       "Australia              1731\n",
       "Netherlands            1645\n",
       "Russian Federation     1367\n",
       "Sweden                 1237\n",
       "Italy                  1189\n",
       "Switzerland             810\n",
       "Turkey                  771\n",
       "Mexico                  705\n",
       "Pakistan                696\n",
       "Ukraine                 689\n",
       "Israel                  677\n",
       "Romania                 657\n",
       "Belgium                 641\n",
       "Iran                    624\n",
       "Austria                 624\n",
       "Czech Republic          608\n",
       "Norway                  607\n",
       "Denmark                 561\n",
       "South Africa            560\n",
       "Ireland                 553\n",
       "Portugal                526\n",
       "Argentina               521\n",
       "Finland                 506\n",
       "New Zealand             489\n",
       "Greece                  458\n",
       "Bulgaria                446\n",
       "Hungary                 444\n",
       "Name: Country, dtype: int64"
      ]
     },
     "metadata": {},
     "execution_count": 24
    }
   ],
   "metadata": {}
  },
  {
   "cell_type": "code",
   "execution_count": 25,
   "source": [
    "df.info()"
   ],
   "outputs": [
    {
     "output_type": "stream",
     "name": "stdout",
     "text": [
      "<class 'pandas.core.frame.DataFrame'>\n",
      "Int64Index: 76944 entries, 2 to 64154\n",
      "Data columns (total 6 columns):\n",
      " #   Column          Non-Null Count  Dtype  \n",
      "---  ------          --------------  -----  \n",
      " 0   Country         76944 non-null  object \n",
      " 1   EdLevel         76944 non-null  object \n",
      " 2   YearsCodePro    76944 non-null  object \n",
      " 3   Employment      76944 non-null  object \n",
      " 4   Salary          76944 non-null  float64\n",
      " 5   UndergradMajor  76944 non-null  object \n",
      "dtypes: float64(1), object(5)\n",
      "memory usage: 4.1+ MB\n"
     ]
    }
   ],
   "metadata": {}
  },
  {
   "cell_type": "code",
   "execution_count": 39,
   "source": [
    "print(df.shape[0])"
   ],
   "outputs": [
    {
     "output_type": "stream",
     "name": "stdout",
     "text": [
      "76944\n"
     ]
    }
   ],
   "metadata": {}
  },
  {
   "cell_type": "markdown",
   "source": [
    "### Removing salary outliers"
   ],
   "metadata": {}
  },
  {
   "cell_type": "code",
   "execution_count": 28,
   "source": [
    "fig, ax = plt.subplots(1,1, figsize=(12, 7))\r\n",
    "df.boxplot('Salary', 'Country', ax=ax)\r\n",
    "plt.suptitle('Salary (US$) v Country')\r\n",
    "plt.title('')\r\n",
    "plt.ylabel('Salary')\r\n",
    "plt.xticks(rotation=90)\r\n",
    "plt.show()"
   ],
   "outputs": [
    {
     "output_type": "display_data",
     "data": {
      "image/png": "[encoded data removed]",
      "text/plain": [
       "<Figure size 864x504 with 1 Axes>"
      ]
     },
     "metadata": {
      "needs_background": "light"
     }
    }
   ],
   "metadata": {}
  },
  {
   "cell_type": "code",
   "execution_count": 43,
   "source": [
    "df.describe()"
   ],
   "outputs": [
    {
     "output_type": "execute_result",
     "data": {
      "text/html": [
       "<div>\n",
       "<style scoped>\n",
       "    .dataframe tbody tr th:only-of-type {\n",
       "        vertical-align: middle;\n",
       "    }\n",
       "\n",
       "    .dataframe tbody tr th {\n",
       "        vertical-align: top;\n",
       "    }\n",
       "\n",
       "    .dataframe thead th {\n",
       "        text-align: right;\n",
       "    }\n",
       "</style>\n",
       "<table border=\"1\" class=\"dataframe\">\n",
       "  <thead>\n",
       "    <tr style=\"text-align: right;\">\n",
       "      <th></th>\n",
       "      <th>Salary</th>\n",
       "    </tr>\n",
       "  </thead>\n",
       "  <tbody>\n",
       "    <tr>\n",
       "      <td>count</td>\n",
       "      <td>71276.000000</td>\n",
       "    </tr>\n",
       "    <tr>\n",
       "      <td>mean</td>\n",
       "      <td>62917.877448</td>\n",
       "    </tr>\n",
       "    <tr>\n",
       "      <td>std</td>\n",
       "      <td>48723.085294</td>\n",
       "    </tr>\n",
       "    <tr>\n",
       "      <td>min</td>\n",
       "      <td>1000.000000</td>\n",
       "    </tr>\n",
       "    <tr>\n",
       "      <td>25%</td>\n",
       "      <td>24504.000000</td>\n",
       "    </tr>\n",
       "    <tr>\n",
       "      <td>50%</td>\n",
       "      <td>52942.000000</td>\n",
       "    </tr>\n",
       "    <tr>\n",
       "      <td>75%</td>\n",
       "      <td>88181.500000</td>\n",
       "    </tr>\n",
       "    <tr>\n",
       "      <td>max</td>\n",
       "      <td>250000.000000</td>\n",
       "    </tr>\n",
       "  </tbody>\n",
       "</table>\n",
       "</div>"
      ],
      "text/plain": [
       "              Salary\n",
       "count   71276.000000\n",
       "mean    62917.877448\n",
       "std     48723.085294\n",
       "min      1000.000000\n",
       "25%     24504.000000\n",
       "50%     52942.000000\n",
       "75%     88181.500000\n",
       "max    250000.000000"
      ]
     },
     "metadata": {},
     "execution_count": 43
    }
   ],
   "metadata": {}
  },
  {
   "cell_type": "code",
   "execution_count": 16,
   "source": [
    "df.head()"
   ],
   "outputs": [
    {
     "output_type": "execute_result",
     "data": {
      "text/html": [
       "<div>\n",
       "<style scoped>\n",
       "    .dataframe tbody tr th:only-of-type {\n",
       "        vertical-align: middle;\n",
       "    }\n",
       "\n",
       "    .dataframe tbody tr th {\n",
       "        vertical-align: top;\n",
       "    }\n",
       "\n",
       "    .dataframe thead th {\n",
       "        text-align: right;\n",
       "    }\n",
       "</style>\n",
       "<table border=\"1\" class=\"dataframe\">\n",
       "  <thead>\n",
       "    <tr style=\"text-align: right;\">\n",
       "      <th></th>\n",
       "      <th>Country</th>\n",
       "      <th>EdLevel</th>\n",
       "      <th>YearsCodePro</th>\n",
       "      <th>Employment</th>\n",
       "      <th>Salary</th>\n",
       "      <th>UndergradMajor</th>\n",
       "    </tr>\n",
       "  </thead>\n",
       "  <tbody>\n",
       "    <tr>\n",
       "      <td>0</td>\n",
       "      <td>Other</td>\n",
       "      <td>Bachelor’s degree</td>\n",
       "      <td>1.0</td>\n",
       "      <td>Employed full-time</td>\n",
       "      <td>8820.0</td>\n",
       "      <td>Web development or web design</td>\n",
       "    </tr>\n",
       "    <tr>\n",
       "      <td>1</td>\n",
       "      <td>United States</td>\n",
       "      <td>Bachelor’s degree</td>\n",
       "      <td>0.5</td>\n",
       "      <td>Employed full-time</td>\n",
       "      <td>61000.0</td>\n",
       "      <td>Computer science, computer engineering, or sof...</td>\n",
       "    </tr>\n",
       "    <tr>\n",
       "      <td>2</td>\n",
       "      <td>New Zealand</td>\n",
       "      <td>Less than a Bachelors</td>\n",
       "      <td>4.0</td>\n",
       "      <td>Employed full-time</td>\n",
       "      <td>95179.0</td>\n",
       "      <td>Computer science, computer engineering, or sof...</td>\n",
       "    </tr>\n",
       "    <tr>\n",
       "      <td>3</td>\n",
       "      <td>United States</td>\n",
       "      <td>Master’s degree</td>\n",
       "      <td>8.0</td>\n",
       "      <td>Employed full-time</td>\n",
       "      <td>90000.0</td>\n",
       "      <td>Computer science, computer engineering, or sof...</td>\n",
       "    </tr>\n",
       "    <tr>\n",
       "      <td>4</td>\n",
       "      <td>Germany</td>\n",
       "      <td>Post grad</td>\n",
       "      <td>2.0</td>\n",
       "      <td>Employed full-time</td>\n",
       "      <td>57060.0</td>\n",
       "      <td>Computer science, computer engineering, or sof...</td>\n",
       "    </tr>\n",
       "  </tbody>\n",
       "</table>\n",
       "</div>"
      ],
      "text/plain": [
       "         Country                EdLevel  YearsCodePro          Employment  \\\n",
       "0          Other      Bachelor’s degree           1.0  Employed full-time   \n",
       "1  United States      Bachelor’s degree           0.5  Employed full-time   \n",
       "2    New Zealand  Less than a Bachelors           4.0  Employed full-time   \n",
       "3  United States        Master’s degree           8.0  Employed full-time   \n",
       "4        Germany              Post grad           2.0  Employed full-time   \n",
       "\n",
       "    Salary                                     UndergradMajor  \n",
       "0   8820.0                      Web development or web design  \n",
       "1  61000.0  Computer science, computer engineering, or sof...  \n",
       "2  95179.0  Computer science, computer engineering, or sof...  \n",
       "3  90000.0  Computer science, computer engineering, or sof...  \n",
       "4  57060.0  Computer science, computer engineering, or sof...  "
      ]
     },
     "metadata": {},
     "execution_count": 16
    }
   ],
   "metadata": {}
  },
  {
   "cell_type": "code",
   "execution_count": 27,
   "source": [
    "df=df[df[\"Salary\"]<=250000]\r\n",
    "df=df[df[\"Salary\"]>=1000]"
   ],
   "outputs": [],
   "metadata": {}
  },
  {
   "cell_type": "code",
   "execution_count": 11,
   "source": [
    "df.shape[0]"
   ],
   "outputs": [
    {
     "output_type": "execute_result",
     "data": {
      "text/plain": [
       "88883"
      ]
     },
     "metadata": {},
     "execution_count": 11
    }
   ],
   "metadata": {}
  },
  {
   "cell_type": "code",
   "execution_count": 48,
   "source": [
    "save_encoded()"
   ],
   "outputs": [],
   "metadata": {}
  },
  {
   "cell_type": "markdown",
   "source": [
    "### Cleaning YearsCodePro column"
   ],
   "metadata": {}
  },
  {
   "cell_type": "code",
   "execution_count": 31,
   "source": [
    "df[\"YearsCodePro\"].value_counts()"
   ],
   "outputs": [
    {
     "output_type": "execute_result",
     "data": {
      "text/plain": [
       "3      7585\n",
       "2      7372\n",
       "5      6433\n",
       "4      6176\n",
       "6      4601\n",
       "10     4267\n",
       "1      3837\n",
       "7      3731\n",
       "8      3631\n",
       "0.5    2934\n",
       "12     2248\n",
       "15     2140\n",
       "9      2052\n",
       "20     1885\n",
       "11     1717\n",
       "13     1434\n",
       "14     1201\n",
       "18      963\n",
       "16      862\n",
       "25      714\n",
       "19      664\n",
       "17      653\n",
       "22      639\n",
       "21      544\n",
       "30      431\n",
       "23      426\n",
       "24      317\n",
       "26      211\n",
       "28      195\n",
       "35      187\n",
       "27      177\n",
       "32      156\n",
       "33      118\n",
       "29      112\n",
       "34      104\n",
       "31      103\n",
       "40       86\n",
       "38       79\n",
       "36       66\n",
       "37       54\n",
       "39       44\n",
       "42       27\n",
       "41       23\n",
       "43       17\n",
       "50       16\n",
       "44       14\n",
       "45       13\n",
       "50        5\n",
       "48        4\n",
       "49        3\n",
       "47        3\n",
       "46        2\n",
       "Name: YearsCodePro, dtype: int64"
      ]
     },
     "metadata": {},
     "execution_count": 31
    }
   ],
   "metadata": {}
  },
  {
   "cell_type": "code",
   "execution_count": 30,
   "source": [
    "df[\"YearsCodePro\"]=df[\"YearsCodePro\"].apply(lambda x: 50 if x=='More than 50 years' else x)\r\n",
    "df[\"YearsCodePro\"]=df[\"YearsCodePro\"].apply(lambda x: 0.5 if x=='Less than 1 year' else x)"
   ],
   "outputs": [],
   "metadata": {}
  },
  {
   "cell_type": "markdown",
   "source": [
    "### Cleaning Edlevel column"
   ],
   "metadata": {}
  },
  {
   "cell_type": "code",
   "execution_count": 34,
   "source": [
    "df[\"EdLevel\"].value_counts()\r\n"
   ],
   "outputs": [
    {
     "output_type": "execute_result",
     "data": {
      "text/plain": [
       "Bachelor’s degree        37626\n",
       "Master’s degree          18821\n",
       "Less than a Bachelors    11626\n",
       "Post grad                 3203\n",
       "Name: EdLevel, dtype: int64"
      ]
     },
     "metadata": {},
     "execution_count": 34
    }
   ],
   "metadata": {}
  },
  {
   "cell_type": "code",
   "execution_count": 33,
   "source": [
    "def ed(x):\r\n",
    "    if 'Bachelor’s degree' in x:\r\n",
    "        return \"Bachelor’s degree\"\r\n",
    "    if 'Master’s degree' in x:\r\n",
    "        return \"Master’s degree\"\r\n",
    "    if 'Professional degree' in x or 'Other doctoral' in x:\r\n",
    "        return \"Post grad\"\r\n",
    "    return 'Less than a Bachelors'\r\n",
    "df['EdLevel']=df['EdLevel'].apply(ed)"
   ],
   "outputs": [],
   "metadata": {}
  },
  {
   "cell_type": "code",
   "execution_count": 69,
   "source": [
    "# save()\r\n",
    "df=pd.read_csv(\"./dataset/final_dataset.csv\")\r\n",
    "print(df.shape[0])"
   ],
   "outputs": [
    {
     "output_type": "stream",
     "name": "stdout",
     "text": [
      "71276\n"
     ]
    }
   ],
   "metadata": {}
  },
  {
   "cell_type": "code",
   "execution_count": 35,
   "source": [
    "df.head()"
   ],
   "outputs": [
    {
     "output_type": "execute_result",
     "data": {
      "text/html": [
       "<div>\n",
       "<style scoped>\n",
       "    .dataframe tbody tr th:only-of-type {\n",
       "        vertical-align: middle;\n",
       "    }\n",
       "\n",
       "    .dataframe tbody tr th {\n",
       "        vertical-align: top;\n",
       "    }\n",
       "\n",
       "    .dataframe thead th {\n",
       "        text-align: right;\n",
       "    }\n",
       "</style>\n",
       "<table border=\"1\" class=\"dataframe\">\n",
       "  <thead>\n",
       "    <tr style=\"text-align: right;\">\n",
       "      <th></th>\n",
       "      <th>Country</th>\n",
       "      <th>EdLevel</th>\n",
       "      <th>YearsCodePro</th>\n",
       "      <th>Employment</th>\n",
       "      <th>Salary</th>\n",
       "      <th>UndergradMajor</th>\n",
       "    </tr>\n",
       "  </thead>\n",
       "  <tbody>\n",
       "    <tr>\n",
       "      <th>2</th>\n",
       "      <td>Other</td>\n",
       "      <td>Bachelor’s degree</td>\n",
       "      <td>1</td>\n",
       "      <td>Employed full-time</td>\n",
       "      <td>8820.0</td>\n",
       "      <td>Web development or web design</td>\n",
       "    </tr>\n",
       "    <tr>\n",
       "      <th>3</th>\n",
       "      <td>United States</td>\n",
       "      <td>Bachelor’s degree</td>\n",
       "      <td>0.5</td>\n",
       "      <td>Employed full-time</td>\n",
       "      <td>61000.0</td>\n",
       "      <td>Computer science, computer engineering, or sof...</td>\n",
       "    </tr>\n",
       "    <tr>\n",
       "      <th>8</th>\n",
       "      <td>New Zealand</td>\n",
       "      <td>Less than a Bachelors</td>\n",
       "      <td>4</td>\n",
       "      <td>Employed full-time</td>\n",
       "      <td>95179.0</td>\n",
       "      <td>Computer science, computer engineering, or sof...</td>\n",
       "    </tr>\n",
       "    <tr>\n",
       "      <th>12</th>\n",
       "      <td>United States</td>\n",
       "      <td>Master’s degree</td>\n",
       "      <td>8</td>\n",
       "      <td>Employed full-time</td>\n",
       "      <td>90000.0</td>\n",
       "      <td>Computer science, computer engineering, or sof...</td>\n",
       "    </tr>\n",
       "    <tr>\n",
       "      <th>13</th>\n",
       "      <td>Germany</td>\n",
       "      <td>Post grad</td>\n",
       "      <td>2</td>\n",
       "      <td>Employed full-time</td>\n",
       "      <td>57060.0</td>\n",
       "      <td>Computer science, computer engineering, or sof...</td>\n",
       "    </tr>\n",
       "  </tbody>\n",
       "</table>\n",
       "</div>"
      ],
      "text/plain": [
       "          Country                EdLevel YearsCodePro          Employment  \\\n",
       "2           Other      Bachelor’s degree            1  Employed full-time   \n",
       "3   United States      Bachelor’s degree          0.5  Employed full-time   \n",
       "8     New Zealand  Less than a Bachelors            4  Employed full-time   \n",
       "12  United States        Master’s degree            8  Employed full-time   \n",
       "13        Germany              Post grad            2  Employed full-time   \n",
       "\n",
       "     Salary                                     UndergradMajor  \n",
       "2    8820.0                      Web development or web design  \n",
       "3   61000.0  Computer science, computer engineering, or sof...  \n",
       "8   95179.0  Computer science, computer engineering, or sof...  \n",
       "12  90000.0  Computer science, computer engineering, or sof...  \n",
       "13  57060.0  Computer science, computer engineering, or sof...  "
      ]
     },
     "metadata": {},
     "execution_count": 35
    }
   ],
   "metadata": {}
  },
  {
   "cell_type": "markdown",
   "source": [
    "## Label Encoding columns"
   ],
   "metadata": {}
  },
  {
   "cell_type": "code",
   "execution_count": 36,
   "source": [
    "from sklearn.preprocessing import LabelEncoder\r\n",
    "le_edu=LabelEncoder()\r\n",
    "df['EdLevel']=le_edu.fit_transform(df['EdLevel'])\r\n",
    "df['EdLevel'].value_counts()\r\n",
    "print(le_edu.classes_)\r\n",
    "print(le_edu.transform(list(le_edu.classes_)))"
   ],
   "outputs": [
    {
     "output_type": "stream",
     "name": "stdout",
     "text": [
      "['Bachelor’s degree' 'Less than a Bachelors' 'Master’s degree' 'Post grad']\n",
      "[0 1 2 3]\n"
     ]
    }
   ],
   "metadata": {}
  },
  {
   "cell_type": "code",
   "execution_count": 38,
   "source": [
    "le_country=LabelEncoder()\r\n",
    "df['Country']=le_country.fit_transform(df['Country'])\r\n",
    "df[\"Country\"].value_counts()\r\n",
    "print(le_country.classes_)\r\n",
    "print(le_country.transform(list(le_country.classes_)))"
   ],
   "outputs": [
    {
     "output_type": "stream",
     "name": "stdout",
     "text": [
      "['Argentina' 'Australia' 'Austria' 'Belgium' 'Brazil' 'Bulgaria' 'Canada'\n",
      " 'Czech Republic' 'Denmark' 'Finland' 'France' 'Germany' 'Greece'\n",
      " 'Hungary' 'India' 'Iran' 'Ireland' 'Israel' 'Italy' 'Mexico'\n",
      " 'Netherlands' 'New Zealand' 'Norway' 'Other' 'Pakistan' 'Poland'\n",
      " 'Portugal' 'Romania' 'Russian Federation' 'South Africa' 'Spain' 'Sweden'\n",
      " 'Switzerland' 'Turkey' 'Ukraine' 'United Kingdom' 'United States']\n",
      "[ 0  1  2  3  4  5  6  7  8  9 10 11 12 13 14 15 16 17 18 19 20 21 22 23\n",
      " 24 25 26 27 28 29 30 31 32 33 34 35 36]\n"
     ]
    }
   ],
   "metadata": {}
  },
  {
   "cell_type": "code",
   "execution_count": 39,
   "source": [
    "from sklearn.preprocessing import LabelEncoder\r\n",
    "le_ug=LabelEncoder()\r\n",
    "df['UndergradMajor']=le_ug.fit_transform(df['UndergradMajor'])\r\n",
    "df['UndergradMajor'].value_counts()\r\n",
    "print(le_ug.classes_)\r\n",
    "print(le_ug.transform(list(le_ug.classes_)))"
   ],
   "outputs": [
    {
     "output_type": "stream",
     "name": "stdout",
     "text": [
      "['A business discipline (ex. accounting, finance, marketing)'\n",
      " 'A health science' 'A humanities discipline' 'A natural science'\n",
      " 'A social science' 'Another engineering discipline'\n",
      " 'Computer science, computer engineering, or software engineering'\n",
      " 'Fine arts or performing arts (such as graphic design, music, studio art, etc.)'\n",
      " 'I never declared a major'\n",
      " 'Information systems, information technology, or system administration'\n",
      " 'Web development or web design']\n",
      "[ 0  1  2  3  4  5  6  7  8  9 10]\n"
     ]
    }
   ],
   "metadata": {}
  },
  {
   "cell_type": "code",
   "execution_count": 40,
   "source": [
    "from sklearn.preprocessing import LabelEncoder\r\n",
    "le_emp=LabelEncoder()\r\n",
    "df['Employment']=le_emp.fit_transform(df['Employment'])\r\n",
    "df['Employment'].value_counts()\r\n",
    "print(le_emp.classes_)\r\n",
    "print(le_emp.transform(list(le_emp.classes_)))"
   ],
   "outputs": [
    {
     "output_type": "stream",
     "name": "stdout",
     "text": [
      "['Employed full-time' 'Employed part-time'\n",
      " 'Independent contractor, freelancer, or self-employed']\n",
      "[0 1 2]\n"
     ]
    }
   ],
   "metadata": {}
  },
  {
   "cell_type": "code",
   "execution_count": 37,
   "source": [
    "df.head()"
   ],
   "outputs": [
    {
     "output_type": "execute_result",
     "data": {
      "text/html": [
       "<div>\n",
       "<style scoped>\n",
       "    .dataframe tbody tr th:only-of-type {\n",
       "        vertical-align: middle;\n",
       "    }\n",
       "\n",
       "    .dataframe tbody tr th {\n",
       "        vertical-align: top;\n",
       "    }\n",
       "\n",
       "    .dataframe thead th {\n",
       "        text-align: right;\n",
       "    }\n",
       "</style>\n",
       "<table border=\"1\" class=\"dataframe\">\n",
       "  <thead>\n",
       "    <tr style=\"text-align: right;\">\n",
       "      <th></th>\n",
       "      <th>Country</th>\n",
       "      <th>EdLevel</th>\n",
       "      <th>YearsCodePro</th>\n",
       "      <th>Employment</th>\n",
       "      <th>Salary</th>\n",
       "      <th>UndergradMajor</th>\n",
       "    </tr>\n",
       "  </thead>\n",
       "  <tbody>\n",
       "    <tr>\n",
       "      <th>2</th>\n",
       "      <td>Other</td>\n",
       "      <td>0</td>\n",
       "      <td>1</td>\n",
       "      <td>Employed full-time</td>\n",
       "      <td>8820.0</td>\n",
       "      <td>Web development or web design</td>\n",
       "    </tr>\n",
       "    <tr>\n",
       "      <th>3</th>\n",
       "      <td>United States</td>\n",
       "      <td>0</td>\n",
       "      <td>0.5</td>\n",
       "      <td>Employed full-time</td>\n",
       "      <td>61000.0</td>\n",
       "      <td>Computer science, computer engineering, or sof...</td>\n",
       "    </tr>\n",
       "    <tr>\n",
       "      <th>8</th>\n",
       "      <td>New Zealand</td>\n",
       "      <td>1</td>\n",
       "      <td>4</td>\n",
       "      <td>Employed full-time</td>\n",
       "      <td>95179.0</td>\n",
       "      <td>Computer science, computer engineering, or sof...</td>\n",
       "    </tr>\n",
       "    <tr>\n",
       "      <th>12</th>\n",
       "      <td>United States</td>\n",
       "      <td>2</td>\n",
       "      <td>8</td>\n",
       "      <td>Employed full-time</td>\n",
       "      <td>90000.0</td>\n",
       "      <td>Computer science, computer engineering, or sof...</td>\n",
       "    </tr>\n",
       "    <tr>\n",
       "      <th>13</th>\n",
       "      <td>Germany</td>\n",
       "      <td>3</td>\n",
       "      <td>2</td>\n",
       "      <td>Employed full-time</td>\n",
       "      <td>57060.0</td>\n",
       "      <td>Computer science, computer engineering, or sof...</td>\n",
       "    </tr>\n",
       "  </tbody>\n",
       "</table>\n",
       "</div>"
      ],
      "text/plain": [
       "          Country  EdLevel YearsCodePro          Employment   Salary  \\\n",
       "2           Other        0            1  Employed full-time   8820.0   \n",
       "3   United States        0          0.5  Employed full-time  61000.0   \n",
       "8     New Zealand        1            4  Employed full-time  95179.0   \n",
       "12  United States        2            8  Employed full-time  90000.0   \n",
       "13        Germany        3            2  Employed full-time  57060.0   \n",
       "\n",
       "                                       UndergradMajor  \n",
       "2                       Web development or web design  \n",
       "3   Computer science, computer engineering, or sof...  \n",
       "8   Computer science, computer engineering, or sof...  \n",
       "12  Computer science, computer engineering, or sof...  \n",
       "13  Computer science, computer engineering, or sof...  "
      ]
     },
     "metadata": {},
     "execution_count": 37
    }
   ],
   "metadata": {}
  },
  {
   "cell_type": "code",
   "execution_count": 76,
   "source": [
    "df.shape[0]"
   ],
   "outputs": [
    {
     "output_type": "execute_result",
     "data": {
      "text/plain": [
       "71276"
      ]
     },
     "metadata": {},
     "execution_count": 76
    }
   ],
   "metadata": {}
  },
  {
   "cell_type": "markdown",
   "source": [
    "## TEST TRAIN SPLIT"
   ],
   "metadata": {}
  },
  {
   "cell_type": "code",
   "execution_count": 41,
   "source": [
    "from sklearn.model_selection import train_test_split\r\n",
    "df=pd.read_csv('./dataset/final_dataset_encoded.csv')\r\n",
    "train, test = train_test_split(df, test_size=0.2, random_state=42, shuffle=True)\r\n",
    "train.to_csv(r'./dataset/train.csv')\r\n",
    "test.to_csv(r'./dataset/test.csv')\r\n",
    "\r\n",
    "\r\n",
    "train=pd.read_csv(\"./dataset/train.csv\")\r\n",
    "test=pd.read_csv(\"./dataset/test.csv\")\r\n",
    "print(train.shape[0])\r\n",
    "print(test.shape[0])"
   ],
   "outputs": [
    {
     "output_type": "stream",
     "name": "stdout",
     "text": [
      "57020\n",
      "14256\n"
     ]
    }
   ],
   "metadata": {}
  },
  {
   "cell_type": "code",
   "execution_count": 42,
   "source": [
    "train=train.drop(\"Unnamed: 0\",axis=1)\r\n",
    "test=test.drop(\"Unnamed: 0\",axis=1)\r\n",
    "\r\n",
    "x_train=train.drop(\"Salary\",axis=1)\r\n",
    "y_train=train['Salary']\r\n",
    "\r\n",
    "\r\n",
    "x_test=test.drop(\"Salary\",axis=1)\r\n",
    "y_test=test['Salary']\r\n",
    "\r\n",
    "print(x_train.head())\r\n",
    "print(x_test.head())"
   ],
   "outputs": [
    {
     "output_type": "stream",
     "name": "stdout",
     "text": [
      "   Country  EdLevel  YearsCodePro  Employment  UndergradMajor\n",
      "0       36        0           4.0           0               9\n",
      "1       23        0          11.0           0               5\n",
      "2       11        2           1.0           0               6\n",
      "3        8        1           5.0           0               6\n",
      "4       11        2          13.0           0               6\n",
      "   Country  EdLevel  YearsCodePro  Employment  UndergradMajor\n",
      "0       14        0           1.0           0              10\n",
      "1       16        3           5.0           0               4\n",
      "2       36        0          30.0           2               6\n",
      "3       11        0           2.0           1               6\n",
      "4       36        0          33.0           2               0\n"
     ]
    }
   ],
   "metadata": {}
  },
  {
   "cell_type": "markdown",
   "source": [
    "## Linear Regressor"
   ],
   "metadata": {}
  },
  {
   "cell_type": "code",
   "execution_count": 43,
   "source": [
    "from sklearn.metrics import mean_squared_error, mean_absolute_error, r2_score\r\n",
    "import numpy as np\r\n",
    "\r\n",
    "def test_MSE(model,x_test,y_test):\r\n",
    "    y_pred=model.predict(x_test)\r\n",
    "    err=np.sqrt(mean_squared_error(y_test,y_pred))\r\n",
    "    r2=r2_score(y_test,y_pred)\r\n",
    "    print('R2 : ',r2)\r\n",
    "    print('RMSE : ',err)"
   ],
   "outputs": [],
   "metadata": {}
  },
  {
   "cell_type": "code",
   "execution_count": 44,
   "source": [
    "from sklearn.linear_model import LinearRegression\r\n",
    "lin_reg=LinearRegression()\r\n",
    "lin_reg.fit(x_train,y_train.values)"
   ],
   "outputs": [
    {
     "output_type": "execute_result",
     "data": {
      "text/plain": [
       "LinearRegression()"
      ]
     },
     "metadata": {},
     "execution_count": 44
    }
   ],
   "metadata": {}
  },
  {
   "cell_type": "code",
   "execution_count": 45,
   "source": [
    "test_MSE(lin_reg,x_test,y_test)"
   ],
   "outputs": [
    {
     "output_type": "stream",
     "name": "stdout",
     "text": [
      "R2 :  0.3007034885632184\n",
      "RMSE :  41037.12160096804\n"
     ]
    }
   ],
   "metadata": {}
  },
  {
   "cell_type": "markdown",
   "source": [
    "## Decision Tree Regressor"
   ],
   "metadata": {}
  },
  {
   "cell_type": "code",
   "execution_count": 46,
   "source": [
    "from sklearn.tree import DecisionTreeRegressor\r\n",
    "dt_reg=DecisionTreeRegressor()\r\n",
    "dt_reg.fit(x_train,y_train.values)"
   ],
   "outputs": [
    {
     "output_type": "execute_result",
     "data": {
      "text/plain": [
       "DecisionTreeRegressor()"
      ]
     },
     "metadata": {},
     "execution_count": 46
    }
   ],
   "metadata": {}
  },
  {
   "cell_type": "code",
   "execution_count": 47,
   "source": [
    "test_MSE(dt_reg,x_test,y_test)"
   ],
   "outputs": [
    {
     "output_type": "stream",
     "name": "stdout",
     "text": [
      "R2 :  0.5359768223059351\n",
      "RMSE :  33428.43517737111\n"
     ]
    }
   ],
   "metadata": {}
  },
  {
   "cell_type": "markdown",
   "source": [
    "## RANDOM FOREST"
   ],
   "metadata": {}
  },
  {
   "cell_type": "code",
   "execution_count": 48,
   "source": [
    "from sklearn.ensemble import RandomForestRegressor,AdaBoostRegressor\r\n",
    "rf_reg=RandomForestRegressor()\r\n",
    "rf_reg.fit(x_train,y_train.values)"
   ],
   "outputs": [
    {
     "output_type": "execute_result",
     "data": {
      "text/plain": [
       "RandomForestRegressor()"
      ]
     },
     "metadata": {},
     "execution_count": 48
    }
   ],
   "metadata": {}
  },
  {
   "cell_type": "code",
   "execution_count": 49,
   "source": [
    "test_MSE(rf_reg,x_test,y_test)"
   ],
   "outputs": [
    {
     "output_type": "stream",
     "name": "stdout",
     "text": [
      "R2 :  0.5866112122247417\n",
      "RMSE :  31551.902914095197\n"
     ]
    }
   ],
   "metadata": {}
  },
  {
   "cell_type": "code",
   "execution_count": 50,
   "source": [
    "ab_reg=AdaBoostRegressor()\r\n",
    "ab_reg.fit(x_train,y_train.values)\r\n",
    "test_MSE(ab_reg,x_test,y_test)"
   ],
   "outputs": [
    {
     "output_type": "stream",
     "name": "stdout",
     "text": [
      "R2 :  0.38592870184071837\n",
      "RMSE :  38455.2474023763\n"
     ]
    }
   ],
   "metadata": {}
  },
  {
   "cell_type": "code",
   "execution_count": 51,
   "source": [
    "from sklearn.linear_model import LassoLarsCV\r\n",
    "lasso_reg=LassoLarsCV(cv=5,verbose=1)\r\n",
    "lasso_reg.fit(x_train,y_train.values)"
   ],
   "outputs": [
    {
     "output_type": "stream",
     "name": "stderr",
     "text": [
      "[Parallel(n_jobs=1)]: Using backend SequentialBackend with 1 concurrent workers.\n",
      "[Parallel(n_jobs=1)]: Done   5 out of   5 | elapsed:    0.0s finished\n"
     ]
    },
    {
     "output_type": "execute_result",
     "data": {
      "text/plain": [
       "LassoLarsCV(cv=5, verbose=1)"
      ]
     },
     "metadata": {},
     "execution_count": 51
    }
   ],
   "metadata": {}
  },
  {
   "cell_type": "code",
   "execution_count": 52,
   "source": [
    "test_MSE(lasso_reg,x_test,y_test)"
   ],
   "outputs": [
    {
     "output_type": "stream",
     "name": "stdout",
     "text": [
      "R2 :  0.3007034885632184\n",
      "RMSE :  41037.12160096804\n"
     ]
    }
   ],
   "metadata": {}
  },
  {
   "cell_type": "markdown",
   "source": [
    "## GRID_SEARCH CV"
   ],
   "metadata": {}
  },
  {
   "cell_type": "markdown",
   "source": [
    "### GRID SEARCH DECISION TREE"
   ],
   "metadata": {}
  },
  {
   "cell_type": "code",
   "execution_count": 53,
   "source": [
    "from sklearn.model_selection import GridSearchCV\r\n",
    "params={'max_depth':[12,13,15,17,20],\"criterion\":[\"mse\"],\"min_samples_split\":[25,50,75,100],\"min_samples_leaf\":[15,40,75,100]}\r\n",
    "dt_GS=DecisionTreeRegressor(random_state=0)\r\n",
    "gs_dt=GridSearchCV(dt_GS,params,cv=10,n_jobs = -1,verbose=1)\r\n",
    "gs_dt.fit(x_train,y_train.values)"
   ],
   "outputs": [
    {
     "output_type": "stream",
     "name": "stdout",
     "text": [
      "Fitting 10 folds for each of 80 candidates, totalling 800 fits\n"
     ]
    },
    {
     "output_type": "execute_result",
     "data": {
      "text/plain": [
       "GridSearchCV(cv=10, estimator=DecisionTreeRegressor(random_state=0), n_jobs=-1,\n",
       "             param_grid={'criterion': ['mse'],\n",
       "                         'max_depth': [12, 13, 15, 17, 20],\n",
       "                         'min_samples_leaf': [15, 40, 75, 100],\n",
       "                         'min_samples_split': [25, 50, 75, 100]},\n",
       "             verbose=1)"
      ]
     },
     "metadata": {},
     "execution_count": 53
    }
   ],
   "metadata": {}
  },
  {
   "cell_type": "code",
   "execution_count": 54,
   "source": [
    "print(gs_dt.best_params_)\r\n",
    "print(gs_dt.best_score_)\r\n",
    "test_MSE(gs_dt,x_test,y_test)"
   ],
   "outputs": [
    {
     "output_type": "stream",
     "name": "stdout",
     "text": [
      "{'criterion': 'mse', 'max_depth': 15, 'min_samples_leaf': 15, 'min_samples_split': 75}\n",
      "0.6119412882639763\n",
      "R2 :  0.6175541068426118\n",
      "RMSE :  30348.079366387992\n"
     ]
    }
   ],
   "metadata": {}
  },
  {
   "cell_type": "markdown",
   "source": [
    "### GRID SEARCH RANDOM FOREST"
   ],
   "metadata": {}
  },
  {
   "cell_type": "code",
   "execution_count": 55,
   "source": [
    "from sklearn.model_selection import GridSearchCV\r\n",
    "params={'max_depth':[5,10,15],'n_estimators':[125,150,175,200],'max_features' : ['auto']}\r\n",
    "# , 'min_samples_leaf':[14,16,22,28,32],'min_samples_split': [8, 10, 12]}\r\n",
    "rf_GS=RandomForestRegressor(random_state=0)\r\n",
    "gs_rf=GridSearchCV(rf_GS,params,cv=4,n_jobs=-1,verbose=1)\r\n",
    "gs_rf.fit(x_train,y_train.values)\r\n",
    "print(gs_rf.best_params_)"
   ],
   "outputs": [
    {
     "output_type": "stream",
     "name": "stdout",
     "text": [
      "Fitting 4 folds for each of 12 candidates, totalling 48 fits\n",
      "{'max_depth': 10, 'max_features': 'auto', 'n_estimators': 150}\n"
     ]
    }
   ],
   "metadata": {}
  },
  {
   "cell_type": "code",
   "execution_count": 56,
   "source": [
    "test_MSE(gs_rf,x_test,y_test)"
   ],
   "outputs": [
    {
     "output_type": "stream",
     "name": "stdout",
     "text": [
      "R2 :  0.613893472487326\n",
      "RMSE :  30492.9739155699\n"
     ]
    }
   ],
   "metadata": {}
  },
  {
   "cell_type": "markdown",
   "source": [
    "### GRID SEARCH ADA BOOST FOREST"
   ],
   "metadata": {}
  },
  {
   "cell_type": "code",
   "execution_count": 57,
   "source": [
    "from sklearn.model_selection import GridSearchCV\r\n",
    "params={'learning_rate':[2,3,4,5,7],'n_estimators':[5,10,25,60,100]}\r\n",
    "# , 'min_samples_leaf':[14,16,22,28,32],'min_samples_split': [8, 10, 12]}\r\n",
    "ad_GS=AdaBoostRegressor(random_state=0)\r\n",
    "gs_ad=GridSearchCV(ad_GS,params,verbose=1,n_jobs=-1)\r\n",
    "gs_ad.fit(x_train,y_train.values)\r\n",
    "print(gs_ad.best_params_)"
   ],
   "outputs": [
    {
     "output_type": "stream",
     "name": "stdout",
     "text": [
      "Fitting 5 folds for each of 25 candidates, totalling 125 fits\n",
      "{'learning_rate': 7, 'n_estimators': 5}\n"
     ]
    }
   ],
   "metadata": {}
  },
  {
   "cell_type": "code",
   "execution_count": 58,
   "source": [
    "test_MSE(gs_ad,x_test,y_test)"
   ],
   "outputs": [
    {
     "output_type": "stream",
     "name": "stdout",
     "text": [
      "R2 :  0.47864217682280297\n",
      "RMSE :  35433.5085742679\n"
     ]
    }
   ],
   "metadata": {}
  },
  {
   "cell_type": "code",
   "execution_count": 59,
   "source": [
    "x_train.head()"
   ],
   "outputs": [
    {
     "output_type": "execute_result",
     "data": {
      "text/html": [
       "<div>\n",
       "<style scoped>\n",
       "    .dataframe tbody tr th:only-of-type {\n",
       "        vertical-align: middle;\n",
       "    }\n",
       "\n",
       "    .dataframe tbody tr th {\n",
       "        vertical-align: top;\n",
       "    }\n",
       "\n",
       "    .dataframe thead th {\n",
       "        text-align: right;\n",
       "    }\n",
       "</style>\n",
       "<table border=\"1\" class=\"dataframe\">\n",
       "  <thead>\n",
       "    <tr style=\"text-align: right;\">\n",
       "      <th></th>\n",
       "      <th>Country</th>\n",
       "      <th>EdLevel</th>\n",
       "      <th>YearsCodePro</th>\n",
       "      <th>Employment</th>\n",
       "      <th>UndergradMajor</th>\n",
       "    </tr>\n",
       "  </thead>\n",
       "  <tbody>\n",
       "    <tr>\n",
       "      <th>0</th>\n",
       "      <td>36</td>\n",
       "      <td>0</td>\n",
       "      <td>4.0</td>\n",
       "      <td>0</td>\n",
       "      <td>9</td>\n",
       "    </tr>\n",
       "    <tr>\n",
       "      <th>1</th>\n",
       "      <td>23</td>\n",
       "      <td>0</td>\n",
       "      <td>11.0</td>\n",
       "      <td>0</td>\n",
       "      <td>5</td>\n",
       "    </tr>\n",
       "    <tr>\n",
       "      <th>2</th>\n",
       "      <td>11</td>\n",
       "      <td>2</td>\n",
       "      <td>1.0</td>\n",
       "      <td>0</td>\n",
       "      <td>6</td>\n",
       "    </tr>\n",
       "    <tr>\n",
       "      <th>3</th>\n",
       "      <td>8</td>\n",
       "      <td>1</td>\n",
       "      <td>5.0</td>\n",
       "      <td>0</td>\n",
       "      <td>6</td>\n",
       "    </tr>\n",
       "    <tr>\n",
       "      <th>4</th>\n",
       "      <td>11</td>\n",
       "      <td>2</td>\n",
       "      <td>13.0</td>\n",
       "      <td>0</td>\n",
       "      <td>6</td>\n",
       "    </tr>\n",
       "  </tbody>\n",
       "</table>\n",
       "</div>"
      ],
      "text/plain": [
       "   Country  EdLevel  YearsCodePro  Employment  UndergradMajor\n",
       "0       36        0           4.0           0               9\n",
       "1       23        0          11.0           0               5\n",
       "2       11        2           1.0           0               6\n",
       "3        8        1           5.0           0               6\n",
       "4       11        2          13.0           0               6"
      ]
     },
     "metadata": {},
     "execution_count": 59
    }
   ],
   "metadata": {}
  },
  {
   "cell_type": "markdown",
   "source": [
    "## RANDOM SEARCH CV"
   ],
   "metadata": {}
  },
  {
   "cell_type": "markdown",
   "source": [
    "### RS RANDOM FOREST"
   ],
   "metadata": {}
  },
  {
   "cell_type": "code",
   "execution_count": 60,
   "source": [
    "from sklearn.model_selection import RandomizedSearchCV\r\n",
    "from sklearn.ensemble import RandomForestRegressor\r\n",
    "np.random.seed(42)\r\n",
    "grid = {\r\n",
    "    \"n_estimators\":np.arange(10,150,10),\r\n",
    "    \"max_depth\":[None,3,5,10,15],\r\n",
    "    \"min_samples_split\":np.arange(2,20,2),\r\n",
    "    \"min_samples_leaf\":np.arange(1,20,2),\r\n",
    "    \"max_features\": [0.5,1,\"sqrt\",\"auto\"],\r\n",
    "    \"max_samples\":[10000,12000,15000,20000]\r\n",
    "}\r\n",
    "rs_rf = RandomizedSearchCV( RandomForestRegressor(random_state=0),param_distributions = grid,n_iter=5, cv=7, verbose=True,n_jobs=-1)\r\n",
    "rs_rf.fit(x_train,y_train.values)"
   ],
   "outputs": [
    {
     "output_type": "stream",
     "name": "stdout",
     "text": [
      "Fitting 7 folds for each of 5 candidates, totalling 35 fits\n"
     ]
    },
    {
     "output_type": "execute_result",
     "data": {
      "text/plain": [
       "RandomizedSearchCV(cv=7, estimator=RandomForestRegressor(random_state=0),\n",
       "                   n_iter=5, n_jobs=-1,\n",
       "                   param_distributions={'max_depth': [None, 3, 5, 10, 15],\n",
       "                                        'max_features': [0.5, 1, 'sqrt',\n",
       "                                                         'auto'],\n",
       "                                        'max_samples': [10000, 12000, 15000,\n",
       "                                                        20000],\n",
       "                                        'min_samples_leaf': array([ 1,  3,  5,  7,  9, 11, 13, 15, 17, 19]),\n",
       "                                        'min_samples_split': array([ 2,  4,  6,  8, 10, 12, 14, 16, 18]),\n",
       "                                        'n_estimators': array([ 10,  20,  30,  40,  50,  60,  70,  80,  90, 100, 110, 120, 130,\n",
       "       140])},\n",
       "                   verbose=True)"
      ]
     },
     "metadata": {},
     "execution_count": 60
    }
   ],
   "metadata": {}
  },
  {
   "cell_type": "code",
   "execution_count": 61,
   "source": [
    "print(rs_rf.best_params_)\r\n",
    "print(rs_rf.best_score_)\r\n",
    "test_MSE(rs_rf,x_test,y_test)"
   ],
   "outputs": [
    {
     "output_type": "stream",
     "name": "stdout",
     "text": [
      "{'n_estimators': 40, 'min_samples_split': 8, 'min_samples_leaf': 11, 'max_samples': 10000, 'max_features': 'auto', 'max_depth': None}\n",
      "0.615144650370007\n",
      "R2 :  0.6182709079696224\n",
      "RMSE :  30319.626008195126\n"
     ]
    }
   ],
   "metadata": {}
  },
  {
   "cell_type": "markdown",
   "source": [
    "## SAVING MODEL AND ENCODERS"
   ],
   "metadata": {}
  },
  {
   "cell_type": "code",
   "execution_count": 78,
   "source": [
    "data={'le_country':le_country,'le_edu':le_edu,'le_emp':le_emp,'le_ug':le_ug}\r\n",
    "with open('./models/encoders.pkl','wb') as file:\r\n",
    "    pickle.dump(data,file)"
   ],
   "outputs": [],
   "metadata": {}
  },
  {
   "cell_type": "code",
   "execution_count": 62,
   "source": [
    "# SAVE RS RANDOM FOREST MODEL\r\n",
    "data={'model':rs_rf}\r\n",
    "with open('./models/rs_rf_model.pkl','wb') as file:\r\n",
    "    pickle.dump(data,file)"
   ],
   "outputs": [
    {
     "output_type": "error",
     "ename": "FileNotFoundError",
     "evalue": "[Errno 2] No such file or directory: './model/rs_rf_model.pkl'",
     "traceback": [
      "\u001b[1;31m---------------------------------------------------------------------------\u001b[0m",
      "\u001b[1;31mFileNotFoundError\u001b[0m                         Traceback (most recent call last)",
      "\u001b[1;32m<ipython-input-62-d4c532641fda>\u001b[0m in \u001b[0;36m<module>\u001b[1;34m\u001b[0m\n\u001b[0;32m      1\u001b[0m \u001b[1;31m# SAVE RS RANDOM FOREST MODEL\u001b[0m\u001b[1;33m\u001b[0m\u001b[1;33m\u001b[0m\u001b[1;33m\u001b[0m\u001b[0m\n\u001b[0;32m      2\u001b[0m \u001b[0mdata\u001b[0m\u001b[1;33m=\u001b[0m\u001b[1;33m{\u001b[0m\u001b[1;34m'model'\u001b[0m\u001b[1;33m:\u001b[0m\u001b[0mrs_rf\u001b[0m\u001b[1;33m}\u001b[0m\u001b[1;33m\u001b[0m\u001b[1;33m\u001b[0m\u001b[0m\n\u001b[1;32m----> 3\u001b[1;33m \u001b[1;32mwith\u001b[0m \u001b[0mopen\u001b[0m\u001b[1;33m(\u001b[0m\u001b[1;34m'./model/rs_rf_model.pkl'\u001b[0m\u001b[1;33m,\u001b[0m\u001b[1;34m'wb'\u001b[0m\u001b[1;33m)\u001b[0m \u001b[1;32mas\u001b[0m \u001b[0mfile\u001b[0m\u001b[1;33m:\u001b[0m\u001b[1;33m\u001b[0m\u001b[1;33m\u001b[0m\u001b[0m\n\u001b[0m\u001b[0;32m      4\u001b[0m     \u001b[0mpickle\u001b[0m\u001b[1;33m.\u001b[0m\u001b[0mdump\u001b[0m\u001b[1;33m(\u001b[0m\u001b[0mdata\u001b[0m\u001b[1;33m,\u001b[0m\u001b[0mfile\u001b[0m\u001b[1;33m)\u001b[0m\u001b[1;33m\u001b[0m\u001b[1;33m\u001b[0m\u001b[0m\n",
      "\u001b[1;31mFileNotFoundError\u001b[0m: [Errno 2] No such file or directory: './model/rs_rf_model.pkl'"
     ]
    }
   ],
   "metadata": {}
  },
  {
   "cell_type": "code",
   "execution_count": 132,
   "source": [
    "# SAVE GS RANDOM FOREST TREE MODEL\r\n",
    "data={'model':gs_rf}\r\n",
    "with open('./models/gs_rf_model.pkl','wb') as file:\r\n",
    "    pickle.dump(data,file)"
   ],
   "outputs": [],
   "metadata": {}
  },
  {
   "cell_type": "markdown",
   "source": [
    "## LOADING MODEL AND ENCODERS"
   ],
   "metadata": {}
  },
  {
   "cell_type": "code",
   "execution_count": 133,
   "source": [
    "with open('./models/encoders.pkl','rb') as file:\r\n",
    "    data=pickle.load(file)\r\n",
    "\r\n",
    "nle_country=data[\"le_country\"]\r\n",
    "nle_edu=data[\"le_edu\"]\r\n",
    "nle_emp=data[\"le_emp\"]\r\n",
    "nle_ug=data[\"le_ug\"]\r\n",
    "with open('./models/gs_rf_model.pkl','rb') as file:\r\n",
    "    data=pickle.load(file)\r\n",
    "model=data[\"model\"]"
   ],
   "outputs": [],
   "metadata": {}
  },
  {
   "cell_type": "markdown",
   "source": [
    "## PREDICTING SALARY"
   ],
   "metadata": {}
  },
  {
   "cell_type": "code",
   "execution_count": 139,
   "source": [
    "def prepare(data):\n",
    "    x=np.array([data])\n",
    "    x[:,0]=nle_country.transform(x[:,0])\n",
    "    x[:,1]=nle_edu.transform(x[:,1])\n",
    "    x[:,3]=nle_emp.transform(x[:,3])\n",
    "    x[:,4]=nle_ug.transform(x[:,4])\n",
    "    x=x.astype(float)\n",
    "    return x\n",
    "\n",
    "\n",
    "# x=prepare([\"India\",\"Bachelor’s degree\",2,\"Employed full-time\",\"Computer science, computer engineering, or software engineering\"])\n",
    "# x=prepare([\"United States\",\"Bachelor’s degree\",20,\"Independent contractor, freelancer, or self-employed\",\"A business discipline (ex. accounting, finance, marketing)\"])\n",
    "\n",
    "\n",
    "x=prepare([\"Canada\",\"Bachelor’s degree\",1,\"Employed full-time\",\"Web development or web design\"])\n",
    "# 52704.0\n",
    "y_pred=model.predict(x);\n",
    "y_pred"
   ],
   "outputs": [
    {
     "output_type": "execute_result",
     "data": {
      "text/plain": [
       "array([47960.02885709])"
      ]
     },
     "metadata": {},
     "execution_count": 139
    }
   ],
   "metadata": {}
  },
  {
   "cell_type": "code",
   "execution_count": null,
   "source": [],
   "outputs": [],
   "metadata": {}
  }
 ],
 "metadata": {
  "interpreter": {
   "hash": "131beb6b211914ce1e4d9a68a7b49f1954c54462e8d7ca8793e56a4174680e02"
  },
  "kernelspec": {
   "name": "python3",
   "display_name": "Python 3.8.8 64-bit ('base': conda)"
  },
  "language_info": {
   "codemirror_mode": {
    "name": "ipython",
    "version": 3
   },
   "file_extension": ".py",
   "mimetype": "text/x-python",
   "name": "python",
   "nbconvert_exporter": "python",
   "pygments_lexer": "ipython3",
   "version": "3.8.8"
  }
 },
 "nbformat": 4,
 "nbformat_minor": 2
}